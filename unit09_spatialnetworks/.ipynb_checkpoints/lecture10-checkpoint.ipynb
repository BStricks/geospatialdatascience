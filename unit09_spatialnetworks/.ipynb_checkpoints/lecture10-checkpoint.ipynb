{
 "cells": [
  {
   "cell_type": "markdown",
   "id": "8b25822c-c828-4c29-9c27-28dcc8ff8279",
   "metadata": {
    "tags": []
   },
   "source": [
    "<div class=\"frontmatter text-center\">\n",
    "<h1>Geospatial Data Science</h1>\n",
    "<h2>Lecture 10: Spatial networks</h2>\n",
    "<h3>IT University of Copenhagen, Spring 2022</h3>\n",
    "<h3>Instructor: Michael Szell</h3>\n",
    "</div>\n",
    "\n",
    "# Source\n",
    "This notebook was adapted from:\n",
    "\n",
    "* OSMnx examples: https://github.com/gboeing/osmnx-examples/blob/main/notebooks/06-stats-indicators-centrality.ipynb\n",
    "* Spaghetti: https://pysal.org/spaghetti/notebooks/network-spatial-dependence.html"
   ]
  },
  {
   "cell_type": "code",
   "execution_count": null,
   "id": "7022ec0c-0450-4ff8-8e1e-665a46054c79",
   "metadata": {},
   "outputs": [],
   "source": [
    "import geopandas as gpd\n",
    "import osmnx as ox\n",
    "import numpy as np\n",
    "import networkx as nx\n",
    "import pandas as pd\n",
    "\n",
    "from haversine import haversine, haversine_vector\n",
    "\n",
    "import matplotlib.pyplot as plt\n",
    "from scipy.spatial import Delaunay, delaunay_plot_2d, Voronoi, voronoi_plot_2d\n",
    "\n",
    "import matplotlib\n",
    "import spaghetti\n",
    "import matplotlib_scalebar\n",
    "from matplotlib_scalebar.scalebar import ScaleBar\n",
    "\n",
    "%matplotlib inline\n",
    "ox.__version__"
   ]
  },
  {
   "cell_type": "markdown",
   "id": "cb8da2f7-f6bb-4e64-890a-18e77dfb4c3b",
   "metadata": {},
   "source": [
    "# Haversine distance"
   ]
  },
  {
   "cell_type": "markdown",
   "id": "fd287082-ecef-4303-b7d9-14b6265821be",
   "metadata": {},
   "source": [
    "Always use the Haversine distance when calculating distances between far away points: https://github.com/mapado/haversine"
   ]
  },
  {
   "cell_type": "code",
   "execution_count": null,
   "id": "64fe2a49-f1ef-4224-8e9d-cd8c4da731bb",
   "metadata": {},
   "outputs": [],
   "source": [
    "copenhagen = (55.67594, 12.56553)  # (lat, lon)\n",
    "london = (51.509865, -0.118092)\n",
    "sanfrancisco = (37.773972, -122.431297)\n",
    "newyork = (40.730610, -73.935242)"
   ]
  },
  {
   "cell_type": "code",
   "execution_count": null,
   "id": "089478b0-1dec-4ee9-9fa3-879b970788f2",
   "metadata": {},
   "outputs": [],
   "source": [
    "haversine(copenhagen, sanfrancisco)"
   ]
  },
  {
   "cell_type": "code",
   "execution_count": null,
   "id": "aa0729fb-821f-4e02-80e9-0d4d2a327e43",
   "metadata": {},
   "outputs": [],
   "source": [
    "haversine_vector(3*[copenhagen], [london, newyork, sanfrancisco])"
   ]
  },
  {
   "cell_type": "markdown",
   "id": "82851816-d502-4bdd-b2b5-3fd70bfea93a",
   "metadata": {},
   "source": [
    "# Use OSMnx to calculate street network indicators"
   ]
  },
  {
   "cell_type": "markdown",
   "id": "ef31b992-166d-49ac-904a-b9eb7645bf9f",
   "metadata": {},
   "source": [
    "First we download the Frederiksberg drive network with OSMnx:"
   ]
  },
  {
   "cell_type": "code",
   "execution_count": null,
   "id": "561311e6-616a-4344-8cab-6fba4363e4a3",
   "metadata": {},
   "outputs": [],
   "source": [
    "place = \"Frederiksberg Municipality\"\n",
    "G = ox.graph_from_place(place, network_type=\"drive\")\n",
    "G_proj = ox.project_graph(G)"
   ]
  },
  {
   "cell_type": "markdown",
   "id": "14b5bd09-ca27-43e7-9199-58614cab6b50",
   "metadata": {},
   "source": [
    "## Calculate basic street network measures (topological and geometric)"
   ]
  },
  {
   "cell_type": "code",
   "execution_count": null,
   "id": "b9f4ea54-46d1-44f6-9d2a-6630ded0af87",
   "metadata": {},
   "outputs": [],
   "source": [
    "# Calculate Frederiksberg's basic stats, then show the average circuity\n",
    "stats = ox.basic_stats(G)\n",
    "stats[\"circuity_avg\"]"
   ]
  },
  {
   "cell_type": "markdown",
   "id": "d80aa22a-c524-4272-b930-6f1e6504c878",
   "metadata": {},
   "source": [
    "To calculate density-based stats, you must also pass the network's bounding area in square meters (otherwise basic_stats() will just skip them in the calculation):"
   ]
  },
  {
   "cell_type": "code",
   "execution_count": null,
   "id": "58b57f29-e456-4880-a630-28b2d0d2fcec",
   "metadata": {},
   "outputs": [],
   "source": [
    "# get the street network for a place, and its area in square meters\n",
    "city = ox.geocode_to_gdf(place)\n",
    "city_proj = ox.project_gdf(city)\n",
    "area = city_proj.unary_union.area"
   ]
  },
  {
   "cell_type": "code",
   "execution_count": null,
   "id": "421b9845-00e7-4c0a-8620-f991c1693efe",
   "metadata": {},
   "outputs": [],
   "source": [
    "# calculate basic and extended network stats, merge them together, and display\n",
    "stats = ox.basic_stats(G, area=area)\n",
    "pd.Series(stats)"
   ]
  },
  {
   "cell_type": "markdown",
   "id": "3647c6ed-af27-48f7-8052-5c41658c33e8",
   "metadata": {},
   "source": [
    "Streets/intersection counts and proportions are nested dicts inside the stats dict. To convert these stats to a pandas dataframe (to compare/analyze multiple networks against each other), just unpack these nested dicts first:"
   ]
  },
  {
   "cell_type": "code",
   "execution_count": null,
   "id": "88f9e812-39a7-4490-bcf9-f0e8b5c49b31",
   "metadata": {},
   "outputs": [],
   "source": [
    "# unpack dicts into individiual keys:values\n",
    "stats = ox.basic_stats(G, area=area)\n",
    "for k, count in stats[\"streets_per_node_counts\"].items():\n",
    "    stats[\"{}way_int_count\".format(k)] = count\n",
    "for k, proportion in stats[\"streets_per_node_proportions\"].items():\n",
    "    stats[\"{}way_int_prop\".format(k)] = proportion\n",
    "\n",
    "# delete the no longer needed dict elements\n",
    "del stats[\"streets_per_node_counts\"]\n",
    "del stats[\"streets_per_node_proportions\"]\n",
    "\n",
    "# load as a pandas dataframe\n",
    "pd.DataFrame(pd.Series(stats, name=\"value\")).round(3)"
   ]
  },
  {
   "cell_type": "markdown",
   "id": "046dec44-d9e6-4490-934e-845974c59116",
   "metadata": {},
   "source": [
    "### Inspect betweenness centrality"
   ]
  },
  {
   "cell_type": "code",
   "execution_count": null,
   "id": "5feca931-868a-48ae-8e39-8ba31ad97338",
   "metadata": {},
   "outputs": [],
   "source": [
    "# calculate betweenness with a digraph of G (ie, no parallel edges)\n",
    "bc = nx.betweenness_centrality(ox.get_digraph(G), weight=\"length\")\n",
    "max_node, max_bc = max(bc.items(), key=lambda x: x[1])\n",
    "max_node, max_bc"
   ]
  },
  {
   "cell_type": "markdown",
   "id": "b6436dae-f12e-4442-92d0-05937e654e30",
   "metadata": {},
   "source": [
    "In Frederiksberg Municipality, the node with the highest betweenness centrality has 25% of all shortest paths running through it. Let's highlight it in the plot:"
   ]
  },
  {
   "cell_type": "code",
   "execution_count": null,
   "id": "3eb14101-dbc6-49d8-a32d-d564f408e871",
   "metadata": {},
   "outputs": [],
   "source": [
    "nc = [\"r\" if node == max_node else \"w\" for node in G.nodes]\n",
    "ns = [150 if node == max_node else 20 for node in G.nodes]\n",
    "fig, ax = ox.plot_graph(G, node_size=ns, node_color=nc, node_zorder=2, bgcolor=\"k\")"
   ]
  },
  {
   "cell_type": "markdown",
   "id": "2144bc8c-8dc0-4063-946f-48f33aa695da",
   "metadata": {},
   "source": [
    "~25% of all shortest paths run through the node highlighted in red. Let's look at the relative betweenness centrality of every node in the graph:"
   ]
  },
  {
   "cell_type": "code",
   "execution_count": null,
   "id": "1b296632-897b-469c-912a-26cefef994e1",
   "metadata": {},
   "outputs": [],
   "source": [
    "# add the betweenness centrality values as new node attributes, then plot\n",
    "nx.set_node_attributes(G, bc, \"bc\")\n",
    "nc = ox.plot.get_node_colors_by_attr(G, \"bc\", cmap=\"viridis\")\n",
    "fig, ax = ox.plot_graph(\n",
    "    G,\n",
    "    node_color=nc,\n",
    "    node_size=40,\n",
    "    node_zorder=2,\n",
    "    edge_linewidth=0.2,\n",
    "    edge_color=\"w\",\n",
    "    bgcolor=\"k\",\n",
    ")"
   ]
  },
  {
   "cell_type": "markdown",
   "id": "57531c43-5c1e-4a8c-9edb-039f00665d24",
   "metadata": {},
   "source": [
    "Above, the nodes are visualized by betweenness centrality, from low (dark violet) to high (light yellow). The colors in the colorspace are linearly mapped to the attribute values."
   ]
  },
  {
   "cell_type": "markdown",
   "id": "2569098c-5a62-4a9f-937d-8e5ff42007f7",
   "metadata": {},
   "source": [
    "# Delaunay triangulation and Voronoi diagram"
   ]
  },
  {
   "cell_type": "markdown",
   "id": "9232869c-2c67-4593-8451-2aedd426c813",
   "metadata": {},
   "source": [
    "Let's showcase the Delaunay traingulation and the Voronoi diagram for pharmacies in Frederiksberg. In particular, the Voronoi diagram will tell us: What is the closest pharmacy to any location in Frederiksberg?"
   ]
  },
  {
   "cell_type": "code",
   "execution_count": null,
   "id": "54ba829a-1664-4b8c-94a2-98eccccc1350",
   "metadata": {},
   "outputs": [],
   "source": [
    "# Let's fetch all pharmacies and project them\n",
    "tags = {'amenity': ['pharmacy']}\n",
    "gdf_pharmacies = ox.geometries_from_place(place, tags=tags)\n",
    "gdf_pharmacies = ox.project_gdf(gdf_pharmacies)\n",
    "gdf_pharmacies"
   ]
  },
  {
   "cell_type": "code",
   "execution_count": null,
   "id": "2cfdc66e-6ed4-4644-8373-16546aa02463",
   "metadata": {},
   "outputs": [],
   "source": [
    "# Let's extract the coordinates\n",
    "pharmacies_coords = np.vstack((\n",
    "    np.array(gdf_pharmacies.geometry.x),\n",
    "    np.array(gdf_pharmacies.geometry.y)\n",
    ")).T\n",
    "pharmacies_coords"
   ]
  },
  {
   "cell_type": "markdown",
   "id": "f42f2fe9-254f-41c2-a6ce-a1e3c364e64b",
   "metadata": {},
   "source": [
    "## Delaunay triangulation"
   ]
  },
  {
   "cell_type": "code",
   "execution_count": null,
   "id": "8c353821-8526-42e8-a0b8-1e96f8ba5187",
   "metadata": {},
   "outputs": [],
   "source": [
    "tri = Delaunay(pharmacies_coords)\n",
    "fig = plt.figure(figsize=(12, 9))\n",
    "axes = fig.add_axes([0, 0, 1, 1])\n",
    "delaunay_plot_2d(tri, ax=axes);\n",
    "\n",
    "# Plot city border\n",
    "city_proj.plot(fc=\"#F6F6F6\", ec=\"none\", ax=axes);\n",
    "\n",
    "# Plot street network\n",
    "ox.plot_graph(G_proj, node_size=0, bgcolor=\"w\", ax=axes, edge_color=\"#CCCCCC\");"
   ]
  },
  {
   "cell_type": "markdown",
   "id": "016521c3-4080-47d8-9c51-ab9bacf3a034",
   "metadata": {},
   "source": [
    "## Voronoi diagram"
   ]
  },
  {
   "cell_type": "code",
   "execution_count": null,
   "id": "dce6d9a0-ebc6-4873-9bb1-e4b87819f5aa",
   "metadata": {},
   "outputs": [],
   "source": [
    "vor = Voronoi(pharmacies_coords)\n",
    "fig = plt.figure(figsize=(12, 9))\n",
    "axes = fig.add_axes([0, 0, 1, 1])\n",
    "voronoi_plot_2d(vor, ax=axes, line_width = 3, point_size=20);\n",
    "\n",
    "# Plot city border\n",
    "city_proj.plot(fc=\"#F6F6F6\", ec=\"none\", ax=axes);\n",
    "\n",
    "# Plot street network\n",
    "ox.plot_graph(G_proj, node_size=0, bgcolor=\"w\", ax=axes, edge_color=\"#CCCCCC\");"
   ]
  },
  {
   "cell_type": "markdown",
   "id": "e98298df-af4a-4832-b9f7-ce47b309a08c",
   "metadata": {},
   "source": [
    "Voila! The thick black lines show us the areas closest to each pharmacy (blue)."
   ]
  },
  {
   "cell_type": "markdown",
   "id": "ba2cd4b9-63f7-4f05-9905-b8eabfad56fa",
   "metadata": {},
   "source": [
    "# Network-constrained spatial clustering with Ripley's K using Spaghetti"
   ]
  },
  {
   "cell_type": "markdown",
   "id": "c584f969-eeba-4305-af0b-463030dc60c4",
   "metadata": {},
   "source": [
    "Ripley's K function takes a point pattern and considers all pairwise distances of nearest neighbors to determine the existence of clustering, or lack thereof, over a delineated range of distances: https://en.wikipedia.org/wiki/Spatial_descriptive_statistics#Ripley's_K_and_L_functions\n",
    "\n",
    "However, using Ripley's K for urban amenities is wrong: Amenities cannot be reached as the crow flies -you can't move through buildings-, but only over the street network. The Spaghetti package is part of PySAL - it allows to constrain spatial dependence to a street network: https://pysal.org/spaghetti/notebooks/network-spatial-dependence.html It combines point pattern analysis with spatial networks. It has tools to snap points to a network and to analyze point patterns constrained to the network, which can be very useful for asking questions like \"How clustered are pubs/pharmacies *on the street network*?\"\n",
    "\n",
    "We want to analyze two point of interest (POI) datasets in Frederiksberg: 1) Pubs+Restaurants, and 2) Pharmacies (from above). Let's fetch and project the new dataset, pubs+restaurants:"
   ]
  },
  {
   "cell_type": "code",
   "execution_count": null,
   "id": "dd434793-4e3a-47ee-b372-c7eccb79fa8a",
   "metadata": {},
   "outputs": [],
   "source": [
    "tags = {'amenity': ['pub', 'restaurant']}\n",
    "gdf_pubs = ox.geometries_from_place(place, tags=tags)\n",
    "gdf_pubs = ox.project_gdf(gdf_pubs)\n",
    "gdf_pubs"
   ]
  },
  {
   "cell_type": "code",
   "execution_count": null,
   "id": "ae3f0ccf-59ce-4828-84e4-79bcbec0c343",
   "metadata": {},
   "outputs": [],
   "source": [
    "fig = plt.figure(figsize=(12, 9))\n",
    "axes = fig.add_axes([0, 0, 1, 1])\n",
    "\n",
    "# Plot city border\n",
    "city_proj.plot(fc=\"#F6F6F6\", ec=\"none\", ax=axes);\n",
    "\n",
    "# Plot the two POI datasets\n",
    "gdf_pubs.plot(ax=axes, color=\"r\", markersize=60, marker=\"s\")\n",
    "gdf_pharmacies.plot(ax=axes, color=\"b\", markersize=120)\n",
    "\n",
    "# Plot street network\n",
    "ox.plot_graph(G_proj, node_size=0, bgcolor=\"w\", ax=axes);"
   ]
  },
  {
   "cell_type": "markdown",
   "id": "514cdeee-1025-4753-9868-4c5696c74cb4",
   "metadata": {},
   "source": [
    "We first need a helper function for nice plotting (adapted from https://pysal.org/spaghetti/notebooks/network-spatial-dependence.html#Results-plotting-helper-function)"
   ]
  },
  {
   "cell_type": "code",
   "execution_count": null,
   "id": "e34ed874-bd43-41dc-9377-93910f92e503",
   "metadata": {
    "jupyter": {
     "source_hidden": true
    },
    "tags": []
   },
   "outputs": [],
   "source": [
    "def plot_k(k, _arcs, df1, df2, obs, scale=True, wr=[1, 1.2], size=(14, 7)):\n",
    "    \"\"\"Plot a Global Auto K-function and spatial context.\"\"\"\n",
    "    def function_plot(f, ax):\n",
    "        \"\"\"Plot a Global Auto K-function.\"\"\"\n",
    "        ax.plot(k.xaxis, k.observed, \"b-\", linewidth=1.5, label=\"Observed\")\n",
    "        ax.plot(k.xaxis, k.upperenvelope, \"r--\", label=\"Upper\")\n",
    "        ax.plot(k.xaxis, k.lowerenvelope, \"k--\", label=\"Lower\")\n",
    "        ax.legend(loc=\"best\", fontsize=\"x-large\")\n",
    "        title_text = \"Global Auto $K$ Function: %s\\n\" % obs\n",
    "        title_text += \"%s steps, %s permutations,\" % (k.nsteps, k.permutations)\n",
    "        title_text += \" %s distribution\" % k.distribution\n",
    "        f.suptitle(title_text, fontsize=25, y=1.1)\n",
    "        ax.set_xlabel(\"Distance $(r)$\", fontsize=\"x-large\")\n",
    "        ax.set_ylabel(\"$K(r)$\", fontsize=\"x-large\")\n",
    "\n",
    "    def spatial_plot(ax):\n",
    "        \"\"\"Plot spatial context.\"\"\"\n",
    "        base = _arcs.plot(ax=ax, color=\"k\", alpha=0.25)\n",
    "        df1.plot(ax=base, color=\"g\", markersize=30, alpha=0.25)\n",
    "        df2.plot(ax=base, color=\"g\", marker=\"x\", markersize=100, alpha=0.5)\n",
    "        carto_elements(base, scale)\n",
    "\n",
    "    sub_args = {\"gridspec_kw\":{\"width_ratios\": wr}, \"figsize\":size}\n",
    "    fig, arr = matplotlib.pyplot.subplots(1, 2, **sub_args)\n",
    "    function_plot(fig, arr[0])\n",
    "    spatial_plot(arr[1])\n",
    "    fig.tight_layout()\n",
    "\n",
    "def carto_elements(b, scale):\n",
    "    \"\"\"Add/adjust cartographic elements.\"\"\"\n",
    "    if scale:\n",
    "        kw = {\"units\":\"m\", \"dimension\":\"si-length\", \"fixed_value\":1000}\n",
    "        b.add_artist(ScaleBar(1, **kw))\n",
    "    b.set(xticklabels=[], xticks=[], yticklabels=[], yticks=[]);"
   ]
  },
  {
   "cell_type": "markdown",
   "id": "f43f95c1-bcc8-4786-b288-5249d2674c20",
   "metadata": {},
   "source": [
    "Because spaghetti has no OSMnx integration, we need to use shapefiles for example. We therefore export the graph, so that we can import it later as a spaghetti.Network"
   ]
  },
  {
   "cell_type": "code",
   "execution_count": null,
   "id": "096b3e9b-828f-4c7c-8fba-8e759e669e9c",
   "metadata": {},
   "outputs": [],
   "source": [
    "ox.io.save_graph_shapefile(G_proj, \"Frederiksberg\")"
   ]
  },
  {
   "cell_type": "markdown",
   "id": "8197c88d-a829-4ab1-b231-6ca289fd70d2",
   "metadata": {},
   "source": [
    "Now we build the spaghetti.Network from the shape file:"
   ]
  },
  {
   "cell_type": "code",
   "execution_count": null,
   "id": "4b8e2eb7-45c9-4576-829c-2edd5dcf2197",
   "metadata": {},
   "outputs": [],
   "source": [
    "ntw = spaghetti.Network(in_data=\"Frederiksberg/edges.shp\")\n",
    "vertices_df, arcs_df = spaghetti.element_as_gdf(\n",
    "    ntw, vertices=ntw.vertex_coords, arcs=ntw.arcs\n",
    ")"
   ]
  },
  {
   "cell_type": "markdown",
   "id": "8ea8ebb4-55df-49c1-aa86-857cf5032e93",
   "metadata": {},
   "source": [
    "Snapping pubs and pharmacies to our street network, creating two pointpatterns on the network:"
   ]
  },
  {
   "cell_type": "code",
   "execution_count": null,
   "id": "da07e803-4286-424d-b6c8-201deaa1dbc7",
   "metadata": {},
   "outputs": [],
   "source": [
    "ntw.snapobservations(gdf_pubs, \"pubs\", attribute=True)\n",
    "ntw.snapobservations(gdf_pharmacies, \"pharmacies\", attribute=True)\n",
    "ntw.pointpatterns"
   ]
  },
  {
   "cell_type": "markdown",
   "id": "3f1f5e53-a1c1-478f-9f9b-c4561e05d03c",
   "metadata": {},
   "source": [
    "Saving the pointpatterns and their snapped versions as gdf, for plotting later:"
   ]
  },
  {
   "cell_type": "code",
   "execution_count": null,
   "id": "859e3db2-2c62-4770-b261-08b220980c8c",
   "metadata": {},
   "outputs": [],
   "source": [
    "pubs = spaghetti.element_as_gdf(ntw, pp_name=\"pubs\")\n",
    "pubs_snapped = spaghetti.element_as_gdf(ntw, pp_name=\"pubs\", snapped=True)\n",
    "pharmacies = spaghetti.element_as_gdf(ntw, pp_name=\"pharmacies\")\n",
    "pharmacies_snapped = spaghetti.element_as_gdf(ntw, pp_name=\"pharmacies\", snapped=True)"
   ]
  },
  {
   "cell_type": "markdown",
   "id": "2864cd91-5ec2-4bf6-ac9f-2f4c04db9867",
   "metadata": {},
   "source": [
    "## Clustering of pubs and restaurants"
   ]
  },
  {
   "cell_type": "markdown",
   "id": "c27c718a-76f3-49a5-a48d-d2d777aa0e94",
   "metadata": {},
   "source": [
    "Running Ripley's K for pubs *on the network* (this can take around 2 minutes):"
   ]
  },
  {
   "cell_type": "code",
   "execution_count": null,
   "id": "ce1e9ba4-62d4-445d-bbfc-9d151f5fcb0c",
   "metadata": {},
   "outputs": [],
   "source": [
    "np.random.seed(0)\n",
    "kres = ntw.GlobalAutoK(\n",
    "    ntw.pointpatterns[\"pubs\"],\n",
    "    nsteps=10,\n",
    "    permutations=99) # Keep permutations low here, otherwise too much time needed for computation\n",
    "plot_k(kres, arcs_df, pubs, pubs_snapped, \"pubs\")"
   ]
  },
  {
   "cell_type": "markdown",
   "id": "6fb745ff-dcfc-4f52-887b-234a50e6898a",
   "metadata": {},
   "source": [
    "### Interpretation"
   ]
  },
  {
   "cell_type": "markdown",
   "id": "418b389b-58a0-40ba-9672-b5de8dbba942",
   "metadata": {},
   "source": [
    "Because the observed curve is always above the simulation envelope, pubs+restaurants are clustered on the street network **on all scales**! \n",
    "\n",
    "It looks like a showcase for economies of agglomeration or business cluster effects, especially Gammel Kongevej and Pile Alle/Falkoner Alle:  \n",
    "https://en.wikipedia.org/wiki/Economies_of_agglomeration https://en.wikipedia.org/wiki/Business_cluster#Cluster_effect"
   ]
  },
  {
   "cell_type": "markdown",
   "id": "f0253c61-bdb9-4853-be0f-18c1f040a097",
   "metadata": {},
   "source": [
    "## Clustering of pharmacies"
   ]
  },
  {
   "cell_type": "markdown",
   "id": "af9745d3-94a2-4016-80b8-5e33326629a0",
   "metadata": {},
   "source": [
    "Now let's run Ripley's K on the pharmacies. This is much faster due to the low number of points, so we can crank up the parameters:"
   ]
  },
  {
   "cell_type": "code",
   "execution_count": null,
   "id": "e8dadde7-cd84-4bc9-a3e7-3c22fa706951",
   "metadata": {},
   "outputs": [],
   "source": [
    "np.random.seed(0)\n",
    "kres = ntw.GlobalAutoK(\n",
    "    ntw.pointpatterns[\"pharmacies\"],\n",
    "    nsteps=100,\n",
    "    permutations=999)\n",
    "plot_k(kres, arcs_df, pharmacies, pharmacies_snapped, \"pharmacies\")"
   ]
  },
  {
   "cell_type": "markdown",
   "id": "54992c5d-0e12-46d3-8467-39db06cb9004",
   "metadata": {},
   "source": [
    "### Interpretation"
   ]
  },
  {
   "cell_type": "markdown",
   "id": "6e677517-6052-404d-82a9-8571f3a72eda",
   "metadata": {},
   "source": [
    "Pharmacies show different clustering behavior than pubs+restaurants. If it wasn't for those two pharmacies in the north east right next to each other, their observed curve would be on the lowest end of the simulation envelope for low distances, showing that they are quite dispersed on short ranges. Maybe there are minimum distance laws in place to make pharmacies cover the city well? On the other hand, for distances above 2km, the observed curve is above the envelope, meaning clustering. On this scale, pharmacies are clustered in the east, and there is quite some empty space in the north west and south west of Frederiksberg."
   ]
  }
 ],
 "metadata": {
  "kernelspec": {
   "display_name": "Python 3 (ipykernel)",
   "language": "python",
   "name": "python3"
  },
  "language_info": {
   "codemirror_mode": {
    "name": "ipython",
    "version": 3
   },
   "file_extension": ".py",
   "mimetype": "text/x-python",
   "name": "python",
   "nbconvert_exporter": "python",
   "pygments_lexer": "ipython3",
   "version": "3.9.7"
  }
 },
 "nbformat": 4,
 "nbformat_minor": 5
}
