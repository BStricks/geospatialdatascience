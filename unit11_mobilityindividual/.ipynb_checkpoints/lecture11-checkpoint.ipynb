{
 "cells": [
  {
   "cell_type": "markdown",
   "id": "8b25822c-c828-4c29-9c27-28dcc8ff8279",
   "metadata": {
    "tags": []
   },
   "source": [
    "<div class=\"frontmatter text-center\">\n",
    "<h1>Geospatial Data Science</h1>\n",
    "<h2>Lecture 11: Individual mobility</h2>\n",
    "<h3>IT University of Copenhagen, Spring 2022</h3>\n",
    "<h3>Instructor: Michael Szell</h3>\n",
    "</div>\n",
    "\n",
    "# Source\n",
    "This notebook was adapted from:\n",
    "* sci-kit mobility tutorials: https://github.com/scikit-mobility/tutorials/tree/master/mda_masterbd2020"
   ]
  },
  {
   "cell_type": "markdown",
   "id": "ef8d078b-f6b7-4482-ab72-e5fd8937746d",
   "metadata": {
    "slideshow": {
     "slide_type": "slide"
    }
   },
   "source": [
    "## What is scikit-mobility?\n",
    "\n",
    "a library to analyze <font color=\"blue\">*mobility data*</font>, suited for working with:\n",
    "\n",
    "- **trajectories** composed by lat/long points (e.g., GPS data)\n",
    "- **fluxes** of movements between places (e.g., OD matrix)\n"
   ]
  },
  {
   "cell_type": "code",
   "execution_count": null,
   "id": "f2aeacfb-0bd0-43d5-ac5a-5ce4c2cf2968",
   "metadata": {
    "slideshow": {
     "slide_type": "fragment"
    }
   },
   "outputs": [],
   "source": [
    "# import the library\n",
    "import skmob\n",
    "import warnings\n",
    "import geopandas as gpd\n",
    "import pandas as pd\n",
    "from skmob.tessellation import tilers\n",
    "from skmob.utils import plot\n",
    "import matplotlib.pyplot as plt\n",
    "from tqdm import tqdm\n",
    "from stats_utils import *\n",
    "\n",
    "warnings.filterwarnings('ignore')\n",
    "tess_style = {'color':'gray', 'fillColor':'gray', 'opacity':0.2}"
   ]
  },
  {
   "cell_type": "markdown",
   "id": "ef050528-a3d4-4e15-86f7-29a4719732f2",
   "metadata": {
    "slideshow": {
     "slide_type": "subslide"
    }
   },
   "source": [
    "scikit-mobility provides two user-friendly data structures that extends the *pandas* `DataFrame`:\n",
    "\n",
    "- `TrajDataFrame` - for spatio-temporal <font color=\"blue\">**trajectories**</font>\n",
    "- `FlowDataFrame` - for <font color=\"blue\">**fluxes**</font> mapped into a tessellation\n"
   ]
  },
  {
   "cell_type": "markdown",
   "id": "22103cde-3743-4f7b-b73f-33529a36dd97",
   "metadata": {
    "slideshow": {
     "slide_type": "subslide"
    }
   },
   "source": [
    "### What you can do with scikit-mobility?\n",
    "\n",
    "- **Preprocessing** of mobility data\n",
    "- **Measuring** individual and collective behaviours\n",
    "- <font color=\"grey\">**Assessing** privacy risk</font>\n",
    "- <font color=\"grey\">**Predicting** migration flows</font>\n",
    "- <font color=\"grey\">**Generating** synthetic trajectories</font>\n",
    "    "
   ]
  },
  {
   "cell_type": "markdown",
   "id": "dc1eabd5-d4c4-4978-9f8a-c860af0e13b2",
   "metadata": {
    "slideshow": {
     "slide_type": "slide"
    }
   },
   "source": [
    "## `TrajDataFrame`\n",
    "\n",
    "\n",
    "Each row describes a trajectory's point and contains the following columns:\n",
    "\n",
    "- `lat` - latitude of the point\n",
    "- `lng` - longitude of the point\n",
    "- `datetime` - date and time of the point"
   ]
  },
  {
   "cell_type": "markdown",
   "id": "4320a828-369a-4c96-aa1d-857596948d58",
   "metadata": {
    "slideshow": {
     "slide_type": "subslide"
    }
   },
   "source": [
    "For multi-user data sets, there are two *optional* columns:\n",
    "\n",
    "- `uid` - user's identifier to which the trajectory belongs to\n",
    "- `tid` - identifier for the trajectory"
   ]
  },
  {
   "cell_type": "markdown",
   "id": "f148fbb6-c3c7-49ad-85b6-1d010d966728",
   "metadata": {
    "slideshow": {
     "slide_type": "subslide"
    }
   },
   "source": [
    "A `TrajDataFrame` can be created from:\n",
    "\n",
    "- a python list or *numpy* array\n",
    "- a python dictionary\n",
    "- a *pandas* `DataFrame`\n",
    "- a text file"
   ]
  },
  {
   "cell_type": "markdown",
   "id": "6297a203-d153-4dc9-8e0f-799b6b9376c1",
   "metadata": {
    "slideshow": {
     "slide_type": "subslide"
    }
   },
   "source": [
    "### From a `list`"
   ]
  },
  {
   "cell_type": "code",
   "execution_count": null,
   "id": "88fdaa8e-5e98-4597-81c0-4ed83578f79a",
   "metadata": {
    "slideshow": {
     "slide_type": "-"
    }
   },
   "outputs": [],
   "source": [
    "# From a list\n",
    "data_list = [[1, 39.984094, 116.319236, '2008-10-23 13:53:05'],\n",
    "             [1, 39.984198, 116.319322, '2008-10-23 13:53:06'],\n",
    "             [1, 39.984224, 116.319402, '2008-10-23 13:53:11'],\n",
    "             [1, 39.984211, 116.319389, '2008-10-23 13:53:16']]\n",
    "data_list"
   ]
  },
  {
   "cell_type": "markdown",
   "id": "13339d34-b23c-448b-b4d2-b7624db17c37",
   "metadata": {
    "slideshow": {
     "slide_type": "subslide"
    }
   },
   "source": [
    "We must set the indexes of the mandatory columns using arguments `latitude`, `longitude` and `datetime`."
   ]
  },
  {
   "cell_type": "code",
   "execution_count": null,
   "id": "ad5ac6e3-bf8e-42ea-a197-0efefe50ba8d",
   "metadata": {
    "slideshow": {
     "slide_type": "-"
    }
   },
   "outputs": [],
   "source": [
    "tdf = skmob.TrajDataFrame(data_list, \n",
    "                          latitude=1, longitude=2, \n",
    "                          datetime=3)\n",
    "print(type(tdf))\n",
    "tdf"
   ]
  },
  {
   "cell_type": "markdown",
   "id": "d967ce0a-0151-40f3-a1ae-444f96558302",
   "metadata": {
    "slideshow": {
     "slide_type": "subslide"
    }
   },
   "source": [
    "### From a `DataFrame`"
   ]
  },
  {
   "cell_type": "code",
   "execution_count": null,
   "id": "a4058d33-100b-40b0-992a-797ec06a734c",
   "metadata": {
    "slideshow": {
     "slide_type": "-"
    }
   },
   "outputs": [],
   "source": [
    "# import the pandas library\n",
    "import pandas as pd \n",
    "# build a dataframe from the 2D list\n",
    "data_df = pd.DataFrame(data_list, \n",
    "                       columns=['user', 'latitude', 'lng', 'hour']) "
   ]
  },
  {
   "cell_type": "code",
   "execution_count": null,
   "id": "12ed6df8-158c-4f68-a45f-a71baf089794",
   "metadata": {
    "slideshow": {
     "slide_type": "fragment"
    }
   },
   "outputs": [],
   "source": [
    "print(type(data_df)) # type of the structure\n",
    "data_df.head() # head of the DataFrame"
   ]
  },
  {
   "cell_type": "markdown",
   "id": "081f9b6f-d853-4d75-9337-dd1284b9f82e",
   "metadata": {
    "slideshow": {
     "slide_type": "subslide"
    }
   },
   "source": [
    "Note that: \n",
    "- name of columns in `data_df` don't match the names required\n",
    "- you must specify the names of the mandatory columns using arguments `latitude`, `longitude` and `datetime` "
   ]
  },
  {
   "cell_type": "code",
   "execution_count": null,
   "id": "af9f35ab-3e70-4467-bde5-6e0b22cc0417",
   "metadata": {
    "slideshow": {
     "slide_type": "subslide"
    }
   },
   "outputs": [],
   "source": [
    "# Create a TrajDataFrame from a DataFrame\n",
    "tdf = skmob.TrajDataFrame(data_df, \n",
    "                          latitude='latitude', \n",
    "                          datetime='hour', \n",
    "                          user_id='user')\n",
    "\n",
    "print(type(tdf))\n",
    "tdf.head()"
   ]
  },
  {
   "cell_type": "markdown",
   "id": "eff6df9b-9b5a-479c-af49-cdf1dfa7b002",
   "metadata": {
    "slideshow": {
     "slide_type": "subslide"
    }
   },
   "source": [
    "### From a text file\n",
    "\n",
    "Class `TrajDataFrame` has a method `from_file` to construct the object from an input text file.\n",
    "\n",
    "Let's try with a subsample of the <font color=\"blue\">**GeoLife**</font> trajectories. The whole dataset can be found [here](https://www.microsoft.com/en-us/download/details.aspx?id=52367)."
   ]
  },
  {
   "cell_type": "code",
   "execution_count": null,
   "id": "9f70c9e3-4fc0-4397-ada9-b3078508093d",
   "metadata": {
    "slideshow": {
     "slide_type": "subslide"
    }
   },
   "outputs": [],
   "source": [
    "# create a TrajDataFrame from a dataset of trajectories \n",
    "tdf = skmob.TrajDataFrame.from_file(\n",
    "    'files/geolife_sample.txt.gz', sep=',')\n",
    "print(type(tdf))"
   ]
  },
  {
   "cell_type": "code",
   "execution_count": null,
   "id": "27943939-4094-451e-9818-24af8aca5409",
   "metadata": {
    "slideshow": {
     "slide_type": "-"
    }
   },
   "outputs": [],
   "source": [
    "# explore the TrajDataFrame\n",
    "tdf.head(5)"
   ]
  },
  {
   "cell_type": "markdown",
   "id": "b63ded20-1fdf-47aa-86dc-6a065592316e",
   "metadata": {
    "slideshow": {
     "slide_type": "subslide"
    }
   },
   "source": [
    "### Attributes of a `TrajDataFrame`\n",
    "\n",
    "\n",
    "- `crs`: the coordinate reference system. Default: `epsg:4326` (lat/long)\n",
    "- `parameters`: dictionary to add as many as necessary additional properties"
   ]
  },
  {
   "cell_type": "code",
   "execution_count": null,
   "id": "86a7b754-4a95-497c-b864-62b19b990d37",
   "metadata": {
    "slideshow": {
     "slide_type": "subslide"
    }
   },
   "outputs": [],
   "source": [
    "tdf.crs"
   ]
  },
  {
   "cell_type": "code",
   "execution_count": null,
   "id": "110de93c-397a-4021-b46c-2c770140c7c1",
   "metadata": {
    "scrolled": true,
    "slideshow": {
     "slide_type": "-"
    }
   },
   "outputs": [],
   "source": [
    "tdf.parameters"
   ]
  },
  {
   "cell_type": "code",
   "execution_count": null,
   "id": "a634fe99-3c6f-401c-983d-6ad5f0894fd4",
   "metadata": {
    "slideshow": {
     "slide_type": "-"
    }
   },
   "outputs": [],
   "source": [
    "# add your own parameter\n",
    "tdf.parameters['compress'] = {'thre': 10}\n",
    "tdf.parameters"
   ]
  },
  {
   "cell_type": "markdown",
   "id": "11733438-3b9a-42cf-a35c-960d5a8a06d1",
   "metadata": {
    "slideshow": {
     "slide_type": "subslide"
    }
   },
   "source": [
    "Columns of `TrajDataFrame` have specific types"
   ]
  },
  {
   "cell_type": "code",
   "execution_count": null,
   "id": "93cbf951-840d-4a5b-85a0-8d98f6e3e6c1",
   "metadata": {
    "slideshow": {
     "slide_type": "-"
    }
   },
   "outputs": [],
   "source": [
    "# In the DataFrame\n",
    "print(type(data_df))\n",
    "data_df.dtypes"
   ]
  },
  {
   "cell_type": "code",
   "execution_count": null,
   "id": "d7e45263-3be7-4a54-b1d2-bf88146c1c68",
   "metadata": {
    "slideshow": {
     "slide_type": "subslide"
    }
   },
   "outputs": [],
   "source": [
    "print(type(tdf)) # In the TrajDataFrame\n",
    "tdf.dtypes"
   ]
  },
  {
   "cell_type": "code",
   "execution_count": null,
   "id": "7f11c4f2-4870-4313-998a-9048a9b07ac6",
   "metadata": {
    "slideshow": {
     "slide_type": "-"
    }
   },
   "outputs": [],
   "source": [
    "tdf.lat.head()"
   ]
  },
  {
   "cell_type": "markdown",
   "id": "6ee6d822-0c3d-4db8-86fd-3410396f119f",
   "metadata": {
    "slideshow": {
     "slide_type": "subslide"
    }
   },
   "source": [
    "### Write and read \n",
    "\n",
    "To write/read a `TrajDataFrame` into a file, scikit-mobility provides ad-hoc methods."
   ]
  },
  {
   "cell_type": "markdown",
   "id": "bb339753-0d2f-4b91-9509-b11e7e0b6d73",
   "metadata": {
    "slideshow": {
     "slide_type": "subslide"
    }
   },
   "source": [
    "#### Writing a `TrajDataFrame` to a file\n",
    "\n",
    "- includes the `parameters` and `crs`attributes\n",
    "- preserves `dtype` of columns with timestamps (time zone info is lost though)."
   ]
  },
  {
   "cell_type": "code",
   "execution_count": null,
   "id": "fa00d79d-b8f2-40f4-bbad-9b06b5bfaab2",
   "metadata": {
    "slideshow": {
     "slide_type": "subslide"
    }
   },
   "outputs": [],
   "source": [
    "skmob.write(tdf, './tdf.json')"
   ]
  },
  {
   "cell_type": "code",
   "execution_count": null,
   "id": "e4115c29-96a6-4ce1-aedf-2c8f4f88f2d0",
   "metadata": {
    "slideshow": {
     "slide_type": "-"
    }
   },
   "outputs": [],
   "source": [
    "tdf.parameters"
   ]
  },
  {
   "cell_type": "markdown",
   "id": "aa9b604a-2fff-400c-80dd-023d120eff2a",
   "metadata": {
    "slideshow": {
     "slide_type": "subslide"
    }
   },
   "source": [
    "### Read a `TrajDataFrame` from a json file"
   ]
  },
  {
   "cell_type": "code",
   "execution_count": null,
   "id": "b49fa6bd-bc25-4042-a85f-bdbf10a465ea",
   "metadata": {
    "slideshow": {
     "slide_type": "-"
    }
   },
   "outputs": [],
   "source": [
    "# read the file written before\n",
    "tdf2 = skmob.read('./tdf.json') \n",
    "tdf2[:4]"
   ]
  },
  {
   "cell_type": "markdown",
   "id": "e820dea1-08a7-4a77-9494-b44aa37c87dc",
   "metadata": {
    "slideshow": {
     "slide_type": "subslide"
    }
   },
   "source": [
    "`dtype`s and the `parameters` and `crs` attributes are preserved"
   ]
  },
  {
   "cell_type": "code",
   "execution_count": null,
   "id": "c1c5e0ba-d917-4c93-be97-b33bc3dd3ede",
   "metadata": {
    "slideshow": {
     "slide_type": "-"
    }
   },
   "outputs": [],
   "source": [
    "print(tdf2.dtypes)\n",
    "tdf2.parameters"
   ]
  },
  {
   "cell_type": "markdown",
   "id": "f6faa3a8-bc42-4b53-8363-ee91e0af396d",
   "metadata": {
    "slideshow": {
     "slide_type": "subslide"
    }
   },
   "source": [
    "### Plotting trajectories and flows\n",
    "\n",
    "*scikit-mobility* relies on the *folium* library to plot:\n",
    "- trajectories\n",
    "- flows\n",
    "- tessellations"
   ]
  },
  {
   "cell_type": "code",
   "execution_count": null,
   "id": "438749c7-d5dc-4172-8411-2882ac52a713",
   "metadata": {
    "scrolled": true,
    "slideshow": {
     "slide_type": "subslide"
    },
    "tags": []
   },
   "outputs": [],
   "source": [
    "tdf.plot_trajectory(zoom=12, weight=3, opacity=0.9, \n",
    "                    tiles='Stamen Toner', start_end_markers=True)"
   ]
  },
  {
   "cell_type": "markdown",
   "id": "8f49f5bc-8ed5-4d4c-a566-88797fea8b45",
   "metadata": {
    "slideshow": {
     "slide_type": "slide"
    },
    "tags": []
   },
   "source": [
    "## `FlowDataFrame`\n",
    "\n",
    "Each row describes a flow and contains the columns:\n",
    "\n",
    "- `origin`: ID of the origin tile\n",
    "- `destination`: ID of the destination tile\n",
    "- `flow`: number of people travelling from `origin` to `destination`\n",
    "\n",
    "<!-- NOTE: `FlowDataFrame` is a dataframe way of having Origin-Destination Matrix. -->"
   ]
  },
  {
   "cell_type": "markdown",
   "id": "7b5ff68d-e165-4729-bc2d-3831525d73ef",
   "metadata": {
    "slideshow": {
     "slide_type": "subslide"
    }
   },
   "source": [
    "### Tessellation\n",
    "Each `FlowDataFrame` is associated  with a <font color=\"blue\">**tessellation**</font>, i.e., a `GeoDataFrame` that  contains two columns:\n",
    "- `tile_ID`, identifier of a location\n",
    "- `geometry`, geometric shape of the location"
   ]
  },
  {
   "cell_type": "markdown",
   "id": "fe7bf767-20ec-4f74-8603-620bfca080f9",
   "metadata": {
    "slideshow": {
     "slide_type": "subslide"
    }
   },
   "source": [
    "### Create of a `FlowDataFrame`\n",
    "\n",
    "The `FlowDataFrame` can be created from:\n",
    "\n",
    "- a python list or a numpy array\n",
    "- a *pandas* `DataFrame`\n",
    "- a python dictionary\n",
    "- a text file\n"
   ]
  },
  {
   "cell_type": "markdown",
   "id": "e468d764-9961-4103-a299-ae001a1a8d8f",
   "metadata": {
    "slideshow": {
     "slide_type": "subslide"
    }
   },
   "source": [
    "### From a file\n",
    "\n",
    "method `from_file` creates a `FlowDataFrame` from a text file with the format:\n",
    "    \n",
    "- `origin`, `destination`, `flow`, `datetime` (optional)\n"
   ]
  },
  {
   "cell_type": "code",
   "execution_count": null,
   "id": "58eed1ab-ee47-499c-8bd2-004e4cb03966",
   "metadata": {
    "slideshow": {
     "slide_type": "fragment"
    }
   },
   "outputs": [],
   "source": [
    "tessellation = gpd.GeoDataFrame.from_file(\n",
    "    \"files/NY_counties_2011.geojson\") # load a tessellation\n",
    "\n",
    "# create a FlowDataFrame from a file and a tessellation\n",
    "fdf = skmob.FlowDataFrame.from_file(\n",
    "    \"files/NY_commuting_flows_2011.csv\",\n",
    "    tessellation=tessellation, tile_id='tile_id', sep=\",\")"
   ]
  },
  {
   "cell_type": "code",
   "execution_count": null,
   "id": "8e45eb76-d1c3-440b-913b-08cb1cec4f58",
   "metadata": {},
   "outputs": [],
   "source": [
    "fdf.head()"
   ]
  },
  {
   "cell_type": "code",
   "execution_count": null,
   "id": "4a7380d5-9c22-437e-a6a5-d34f4af344d5",
   "metadata": {
    "slideshow": {
     "slide_type": "subslide"
    }
   },
   "outputs": [],
   "source": [
    "fdf.dtypes"
   ]
  },
  {
   "cell_type": "code",
   "execution_count": null,
   "id": "6effbf17-f9e7-465d-9a78-d38d14d94474",
   "metadata": {},
   "outputs": [],
   "source": [
    "# The tessellation is an attribute of the FlowDataFrame\n",
    "fdf.tessellation.head() "
   ]
  },
  {
   "cell_type": "markdown",
   "id": "36d01552-bd91-4733-9de2-0b5cb5d18cfa",
   "metadata": {
    "slideshow": {
     "slide_type": "subslide"
    }
   },
   "source": [
    "### Plot the tessellation"
   ]
  },
  {
   "cell_type": "code",
   "execution_count": null,
   "id": "6444f68a-e41f-4392-9317-306a3bcb6d9f",
   "metadata": {
    "slideshow": {
     "slide_type": "-"
    }
   },
   "outputs": [],
   "source": [
    "fdf.plot_tessellation(popup_features=['tile_ID', 'population']) "
   ]
  },
  {
   "cell_type": "markdown",
   "id": "1d710c81-c65f-40e5-ab2b-26f696dc3d9c",
   "metadata": {
    "slideshow": {
     "slide_type": "subslide"
    }
   },
   "source": [
    "### Plot the flows"
   ]
  },
  {
   "cell_type": "code",
   "execution_count": null,
   "id": "77b75ac9-968c-4756-a411-5508aa2f8f3d",
   "metadata": {},
   "outputs": [],
   "source": [
    "fdf.plot_flows(flow_color='green')"
   ]
  },
  {
   "cell_type": "markdown",
   "id": "1c35fbda-e7d2-4218-819f-e97b779faea4",
   "metadata": {
    "slideshow": {
     "slide_type": "subslide"
    }
   },
   "source": [
    "### Plot tessellation and flows"
   ]
  },
  {
   "cell_type": "code",
   "execution_count": null,
   "id": "5e861e17-293a-442c-af3a-b6836abae486",
   "metadata": {
    "scrolled": true,
    "slideshow": {
     "slide_type": "-"
    }
   },
   "outputs": [],
   "source": [
    "map_f = fdf.plot_tessellation(style_func_args=tess_style)\n",
    "fdf[fdf['origin'] == '36061'].plot_flows(map_f=map_f, flow_exp=0., flow_popup=True)"
   ]
  },
  {
   "cell_type": "markdown",
   "id": "fc8fc272-248e-4754-b154-90c7c89fbf44",
   "metadata": {
    "slideshow": {
     "slide_type": "slide"
    }
   },
   "source": [
    "# Mobility measures\n",
    "- We load data of *checkins* made by users on **Brightkite**\n",
    "- Brightkite is a location-based social network (LBSN)\n",
    "- The dataset is freely available at the SNAP website: https://snap.stanford.edu/data/loc-brightkite.html"
   ]
  },
  {
   "cell_type": "code",
   "execution_count": null,
   "id": "9cbd4de0-f8fa-4bff-8d9b-0c85368a0dbf",
   "metadata": {
    "slideshow": {
     "slide_type": "subslide"
    }
   },
   "outputs": [],
   "source": [
    "# load the dataset using pandas\n",
    "df = pd.read_csv(\"files/loc-brightkite_totalCheckins.txt.gz\", sep='\\t', header=0, nrows=500000, \n",
    "                 names=['user', 'check-in_time', \"latitude\", \"longitude\", \n",
    "                        \"location id\"])\n",
    "\n",
    "# convert the pandas DataFrame into an skmob TrajDataFrame\n",
    "tdf = skmob.TrajDataFrame(df, latitude='latitude', \n",
    "            longitude='longitude', datetime='check-in_time', user_id='user')\n",
    "print(tdf.shape)\n",
    "tdf.head()"
   ]
  },
  {
   "cell_type": "code",
   "execution_count": null,
   "id": "f24d7927-a5ff-474e-9fde-2d9a5c002046",
   "metadata": {
    "slideshow": {
     "slide_type": "subslide"
    }
   },
   "outputs": [],
   "source": [
    "print(\"number of users:\\t\", len(tdf.uid.unique()))\n",
    "print(\"number of records:\\t\", len(tdf))"
   ]
  },
  {
   "cell_type": "markdown",
   "id": "2c0d7a60-402c-4945-b002-7a90aa5f5b95",
   "metadata": {
    "slideshow": {
     "slide_type": "slide"
    }
   },
   "source": [
    "# Individual measures\n",
    "\n",
    "- computed on the trajectories of a <u>single individual</u>\n",
    "- quantify standard *mobility patterns*\n",
    "- examples: \n",
    "    - radius of gyration\n",
    "    - jump lengths\n",
    "    - max distance\n",
    "    - individual mobility network"
   ]
  },
  {
   "cell_type": "markdown",
   "id": "875fe88a-b071-494e-8b5e-5ed5dd9593ca",
   "metadata": {
    "slideshow": {
     "slide_type": "slide"
    }
   },
   "source": [
    "## Radius of gyration $r_g$\n",
    "characteristic distance traveled by an individual:\n",
    "\n",
    "$$r_g = \\sqrt{\\frac{1}{N} \\sum_{i=1}^N (\\mathbf{r}_i - \\mathbf{r}_{cm})^2}$$\n",
    "\n",
    "$r_{cm}$ is the position vector of the *center of mass* of the set of locations visited by the individual"
   ]
  },
  {
   "cell_type": "code",
   "execution_count": null,
   "id": "859447d5-b465-4781-9dc9-de993f44aced",
   "metadata": {
    "slideshow": {
     "slide_type": "slide"
    }
   },
   "outputs": [],
   "source": [
    "from skmob.measures.individual import radius_of_gyration"
   ]
  },
  {
   "cell_type": "code",
   "execution_count": null,
   "id": "1266edb5-2861-4483-b82b-794d18347c5b",
   "metadata": {
    "scrolled": true,
    "slideshow": {
     "slide_type": "fragment"
    }
   },
   "outputs": [],
   "source": [
    "rg_df = radius_of_gyration(tdf)"
   ]
  },
  {
   "cell_type": "code",
   "execution_count": null,
   "id": "7666df4f-7d36-465d-86ca-ca19f7c3c355",
   "metadata": {
    "scrolled": true,
    "slideshow": {
     "slide_type": "slide"
    },
    "tags": []
   },
   "outputs": [],
   "source": [
    "# let's plot the distribution of the radius of gyration\n",
    "fig = plt.figure(figsize=(4, 4))\n",
    "rg_list = list(rg_df.radius_of_gyration[rg_df.radius_of_gyration >= 1.0])\n",
    "x, y = zip(*lbpdf(1.5, rg_list))\n",
    "plt.plot(x, y, marker='o')\n",
    "plt.xlabel('$r_g$ [km]', fontsize=20);plt.ylabel('P($r_g$)', fontsize=20)\n",
    "plt.grid(alpha=0.2);\n",
    "plt.loglog();\n",
    "plt.show()"
   ]
  },
  {
   "cell_type": "markdown",
   "id": "2cc5e225-fe1b-433c-9d30-15799cd8ec1b",
   "metadata": {
    "slideshow": {
     "slide_type": "slide"
    }
   },
   "source": [
    "## Jump lengths\n",
    "- a jump length is is the distance between two consecutive visits of an individual\n",
    "- given a `TrajDataFrame`, skmob computes the lengths for each individual independently\n",
    "- use the `jump_lengths` function"
   ]
  },
  {
   "cell_type": "code",
   "execution_count": null,
   "id": "7b5814c2-de7e-46df-a6e2-2246e9a65297",
   "metadata": {
    "slideshow": {
     "slide_type": "slide"
    }
   },
   "outputs": [],
   "source": [
    "from skmob.measures.individual import jump_lengths"
   ]
  },
  {
   "cell_type": "code",
   "execution_count": null,
   "id": "8121f3ed-8a35-43ff-bab7-de94d142f508",
   "metadata": {
    "scrolled": true,
    "slideshow": {
     "slide_type": "fragment"
    }
   },
   "outputs": [],
   "source": [
    "jl_df = jump_lengths(tdf) # disable progress bar with show_progress=False\n",
    "jl_df.head(4)"
   ]
  },
  {
   "cell_type": "code",
   "execution_count": null,
   "id": "4bf489ec-7ad7-4fe8-ad2e-72401d54ec59",
   "metadata": {
    "slideshow": {
     "slide_type": "fragment"
    }
   },
   "outputs": [],
   "source": [
    "# merge=True put all distances of the individuals into a single list\n",
    "jl_list = jump_lengths(tdf, merge=True)\n",
    "type(jl_list)"
   ]
  },
  {
   "cell_type": "code",
   "execution_count": null,
   "id": "6384fe93-3c08-4ea0-8868-f92e01423a5f",
   "metadata": {
    "code_folding": [],
    "slideshow": {
     "slide_type": "slide"
    }
   },
   "outputs": [],
   "source": [
    "# let's plot the distribution of jump lengths\n",
    "fig = plt.figure(figsize=(4, 4))\n",
    "d_list = [dist for dist in jl_list[:10000] if dist >= 1]\n",
    "x, y = zip(*lbpdf(1.5, d_list))\n",
    "plt.plot(x, y, marker='o')\n",
    "plt.xlabel('jump length [km]', fontsize=15);plt.ylabel('P(jump length)', fontsize=15)\n",
    "plt.grid(alpha=0.2);plt.loglog();plt.show()"
   ]
  },
  {
   "cell_type": "markdown",
   "id": "16fb9c47-7b43-450e-b021-7b62fe800234",
   "metadata": {
    "slideshow": {
     "slide_type": "slide"
    }
   },
   "source": [
    "### Distances\n",
    "\n",
    "- maximum distance traveled by each individual `maximum_distance`\n"
   ]
  },
  {
   "cell_type": "code",
   "execution_count": null,
   "id": "dcb7069a-575c-428d-aabc-c09a96075a81",
   "metadata": {
    "slideshow": {
     "slide_type": "fragment"
    }
   },
   "outputs": [],
   "source": [
    "from skmob.measures.individual import max_distance_from_home, distance_straight_line, maximum_distance"
   ]
  },
  {
   "cell_type": "code",
   "execution_count": null,
   "id": "57f6259f-421c-48f9-ae2f-de84566f4532",
   "metadata": {
    "slideshow": {
     "slide_type": "fragment"
    }
   },
   "outputs": [],
   "source": [
    "md_df = maximum_distance(tdf)\n",
    "md_df.head()"
   ]
  },
  {
   "cell_type": "code",
   "execution_count": null,
   "id": "22743315-ba24-46b8-8084-bb7897adc153",
   "metadata": {
    "slideshow": {
     "slide_type": "slide"
    }
   },
   "outputs": [],
   "source": [
    "# let's plot the distribution\n",
    "fig, ax1 = plt.subplots(1, 1)\n",
    "ax1.hist(md_df.maximum_distance, bins=50, rwidth=0.8)\n",
    "ax1.set_xlabel('max', fontsize=15)\n"
   ]
  },
  {
   "cell_type": "markdown",
   "id": "4ce03950-98e0-4fd8-a57b-cd7d5f13aeeb",
   "metadata": {
    "slideshow": {
     "slide_type": "slide"
    }
   },
   "source": [
    "## Individual mobility network\n",
    "a network where: \n",
    "- nodes represent locations visited by the individual\n",
    "- directed edges represent trips between the locations made by the individual "
   ]
  },
  {
   "cell_type": "code",
   "execution_count": null,
   "id": "79f1df8f-095f-4ba3-8aa2-4e1dfe630347",
   "metadata": {
    "slideshow": {
     "slide_type": "fragment"
    }
   },
   "outputs": [],
   "source": [
    "from skmob.measures.individual import individual_mobility_network"
   ]
  },
  {
   "cell_type": "code",
   "execution_count": null,
   "id": "5b6553ce-402d-4014-955e-59e95e4557f5",
   "metadata": {
    "slideshow": {
     "slide_type": "slide"
    }
   },
   "outputs": [],
   "source": [
    "imn_df = individual_mobility_network(tdf)\n",
    "imn_df.head()"
   ]
  },
  {
   "cell_type": "code",
   "execution_count": null,
   "id": "c195f5ef-4a13-467a-a221-d0c6f0637344",
   "metadata": {
    "slideshow": {
     "slide_type": "fragment"
    }
   },
   "outputs": [],
   "source": [
    "an_imn = imn_df[imn_df.uid == 2]\n",
    "an_imn.sort_values(by='n_trips', ascending=False).head(5)"
   ]
  },
  {
   "cell_type": "markdown",
   "id": "0f10d0c2-90f9-4566-b650-853ac9fcfe4f",
   "metadata": {
    "slideshow": {
     "slide_type": "slide"
    }
   },
   "source": [
    "# Collective measures\n",
    "\n",
    "- are computed on the trajectories of a <u>population of individuals</u>\n",
    "- quantify standard *mobility patterns*\n",
    "- examples: \n",
    "    - visits per time unit\n",
    "    - origin destination matrix"
   ]
  },
  {
   "cell_type": "markdown",
   "id": "5d06334c-d671-4cc5-a439-0f2a604b11ec",
   "metadata": {
    "slideshow": {
     "slide_type": "slide"
    }
   },
   "source": [
    "## Visits per location\n",
    "\n",
    "number of visits to a location made by the population of individuals"
   ]
  },
  {
   "cell_type": "code",
   "execution_count": null,
   "id": "debeee91-c17a-44b8-a453-2999caa37549",
   "metadata": {
    "slideshow": {
     "slide_type": "fragment"
    }
   },
   "outputs": [],
   "source": [
    "from skmob.measures.collective import visits_per_location"
   ]
  },
  {
   "cell_type": "code",
   "execution_count": null,
   "id": "242c1106-bda2-425e-9d36-7fc6d13c738e",
   "metadata": {
    "slideshow": {
     "slide_type": "fragment"
    }
   },
   "outputs": [],
   "source": [
    "vpl_df = visits_per_location(tdf)\n",
    "vpl_df.head()"
   ]
  },
  {
   "cell_type": "code",
   "execution_count": null,
   "id": "c8376c46-d7aa-4623-a000-8ab867fdaf7d",
   "metadata": {
    "slideshow": {
     "slide_type": "slide"
    }
   },
   "outputs": [],
   "source": [
    "fig = plt.figure(figsize=(4, 4))\n",
    "x, y = zip(*lbpdf(1.5, list(vpl_df.n_visits)))\n",
    "plt.plot(x, y, marker='o')\n",
    "plt.xlabel('visits per location', fontsize=15)\n",
    "plt.loglog() \n",
    "plt.show()"
   ]
  },
  {
   "cell_type": "markdown",
   "id": "a1da9555-605a-4d14-bddd-342efaaa3063",
   "metadata": {
    "slideshow": {
     "slide_type": "subslide"
    }
   },
   "source": [
    "### Many many other measures can be computed with scikit-mobility. \n",
    "#### Just check the documentation https://scikit-mobility.github.io/scikit-mobility/reference/measures.html"
   ]
  }
 ],
 "metadata": {
  "kernelspec": {
   "display_name": "Python 3 (ipykernel)",
   "language": "python",
   "name": "python3"
  },
  "language_info": {
   "codemirror_mode": {
    "name": "ipython",
    "version": 3
   },
   "file_extension": ".py",
   "mimetype": "text/x-python",
   "name": "python",
   "nbconvert_exporter": "python",
   "pygments_lexer": "ipython3",
   "version": "3.9.7"
  }
 },
 "nbformat": 4,
 "nbformat_minor": 5
}
